{
 "cells": [
  {
   "cell_type": "markdown",
   "id": "5c77e5ae",
   "metadata": {},
   "source": [
    "# Python Guide:"
   ]
  },
  {
   "cell_type": "markdown",
   "id": "02503a32",
   "metadata": {},
   "source": [
    "### Enable Run Python in Interactive Window\n",
    "\n",
    "Steps:\n",
    "1. Open VSC Settings: **Cmd** + **,**\n",
    "2. Type: **Jupyter** > **Interactive Window** > **Text Editor** > **Execute Selection**\n"
   ]
  },
  {
   "cell_type": "markdown",
   "id": "b222d417",
   "metadata": {},
   "source": [
    "### General Notes:\n",
    "\n",
    "- Python uses ***indentation*** to ***indicate blocks***.\n",
    "- **:** indicates that we are going to write a new block of code"
   ]
  },
  {
   "cell_type": "code",
   "execution_count": null,
   "id": "13400fa8",
   "metadata": {},
   "outputs": [],
   "source": [
    "x = 102\n",
    "r = x"
   ]
  }
 ],
 "metadata": {
  "language_info": {
   "name": "python"
  }
 },
 "nbformat": 4,
 "nbformat_minor": 5
}
